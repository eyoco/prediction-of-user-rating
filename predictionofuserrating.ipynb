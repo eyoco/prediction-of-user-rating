{
 "cells": [
  {
   "cell_type": "markdown",
   "metadata": {},
   "source": [
    "# CPSC 330 hw8"
   ]
  },
  {
   "cell_type": "markdown",
   "metadata": {},
   "source": [
    "## Instructions\n",
    "rubric={points:5}\n",
    "\n",
    "Follow the [homework submission instructions](https://github.com/UBC-CS/cpsc330/blob/master/docs/homework_instructions.md). "
   ]
  },
  {
   "cell_type": "markdown",
   "metadata": {},
   "source": [
    "## Dataset\n",
    "rubric={points:5}\n",
    "\n",
    "For this assignment, you can choose any reasonable dataset for supervised learning. Here is a list of Kaggle datasets in CSV format: https://www.kaggle.com/datasets?fileType=csv. You can also pick a dataset from your own hobby project or research project. \n",
    "\n",
    "If it's not already clear from the dataset, you will need to choose which column you are trying to predict. \n",
    "\n",
    "This week, you will build ML models on your dataset. Next week (hw9), you'll write a blog post about your work.\n",
    "\n",
    "Your task here for these 5 points is to describe where you got the data from. If from Kaggle or another online source, poviding a link is sufficient. If from elsewhere, please elaborate."
   ]
  },
  {
   "cell_type": "markdown",
   "metadata": {},
   "source": [
    "## Exercise 1\n",
    "rubric={points:10}\n",
    "\n",
    "For your dataset: \n",
    "\n",
    "- Describe your goal (e.g. what you are trying to predict).\n",
    "- Describe a (possibly fictional) scenario where someone in the real world is interested in this task and why it is useful to them. \n",
    "- What is the **decision** that ML is going to help make and what are the alternatives?\n",
    "\n",
    "Max 1 paragraph total."
   ]
  },
  {
   "cell_type": "markdown",
   "metadata": {},
   "source": [
    "Answer: My goal is predict good selling books. The scenario is useful for the managers of bookstore because the numeric features (such as user ratings, the number of reviews, and the price) can help predict which books will be popular. ML is going to help make the decision of which books will be popular to help the managers know that which books should be purchased more. The alternatives is which books will be sold more. "
   ]
  },
  {
   "cell_type": "markdown",
   "metadata": {},
   "source": [
    "## Exercise 2\n",
    "\n",
    "Build a model for your chosen problem. Your work must involve the following elements (the list is broken up between the sub-parts):\n",
    "\n",
    "- Split your data into train/test"
   ]
  },
  {
   "cell_type": "code",
   "execution_count": 1,
   "metadata": {},
   "outputs": [
    {
     "data": {
      "text/html": [
       "<div>\n",
       "<style scoped>\n",
       "    .dataframe tbody tr th:only-of-type {\n",
       "        vertical-align: middle;\n",
       "    }\n",
       "\n",
       "    .dataframe tbody tr th {\n",
       "        vertical-align: top;\n",
       "    }\n",
       "\n",
       "    .dataframe thead th {\n",
       "        text-align: right;\n",
       "    }\n",
       "</style>\n",
       "<table border=\"1\" class=\"dataframe\">\n",
       "  <thead>\n",
       "    <tr style=\"text-align: right;\">\n",
       "      <th></th>\n",
       "      <th>Name</th>\n",
       "      <th>Author</th>\n",
       "      <th>User Rating</th>\n",
       "      <th>Reviews</th>\n",
       "      <th>Price</th>\n",
       "      <th>Year</th>\n",
       "      <th>Genre</th>\n",
       "    </tr>\n",
       "  </thead>\n",
       "  <tbody>\n",
       "    <tr>\n",
       "      <th>0</th>\n",
       "      <td>10-Day Green Smoothie Cleanse</td>\n",
       "      <td>JJ Smith</td>\n",
       "      <td>4.7</td>\n",
       "      <td>17350</td>\n",
       "      <td>8</td>\n",
       "      <td>2016</td>\n",
       "      <td>Non Fiction</td>\n",
       "    </tr>\n",
       "    <tr>\n",
       "      <th>1</th>\n",
       "      <td>11/22/63: A Novel</td>\n",
       "      <td>Stephen King</td>\n",
       "      <td>4.6</td>\n",
       "      <td>2052</td>\n",
       "      <td>22</td>\n",
       "      <td>2011</td>\n",
       "      <td>Fiction</td>\n",
       "    </tr>\n",
       "    <tr>\n",
       "      <th>2</th>\n",
       "      <td>12 Rules for Life: An Antidote to Chaos</td>\n",
       "      <td>Jordan B. Peterson</td>\n",
       "      <td>4.7</td>\n",
       "      <td>18979</td>\n",
       "      <td>15</td>\n",
       "      <td>2018</td>\n",
       "      <td>Non Fiction</td>\n",
       "    </tr>\n",
       "    <tr>\n",
       "      <th>3</th>\n",
       "      <td>1984 (Signet Classics)</td>\n",
       "      <td>George Orwell</td>\n",
       "      <td>4.7</td>\n",
       "      <td>21424</td>\n",
       "      <td>6</td>\n",
       "      <td>2017</td>\n",
       "      <td>Fiction</td>\n",
       "    </tr>\n",
       "    <tr>\n",
       "      <th>4</th>\n",
       "      <td>5,000 Awesome Facts (About Everything!) (Natio...</td>\n",
       "      <td>National Geographic Kids</td>\n",
       "      <td>4.8</td>\n",
       "      <td>7665</td>\n",
       "      <td>12</td>\n",
       "      <td>2019</td>\n",
       "      <td>Non Fiction</td>\n",
       "    </tr>\n",
       "    <tr>\n",
       "      <th>...</th>\n",
       "      <td>...</td>\n",
       "      <td>...</td>\n",
       "      <td>...</td>\n",
       "      <td>...</td>\n",
       "      <td>...</td>\n",
       "      <td>...</td>\n",
       "      <td>...</td>\n",
       "    </tr>\n",
       "    <tr>\n",
       "      <th>545</th>\n",
       "      <td>Wrecking Ball (Diary of a Wimpy Kid Book 14)</td>\n",
       "      <td>Jeff Kinney</td>\n",
       "      <td>4.9</td>\n",
       "      <td>9413</td>\n",
       "      <td>8</td>\n",
       "      <td>2019</td>\n",
       "      <td>Fiction</td>\n",
       "    </tr>\n",
       "    <tr>\n",
       "      <th>546</th>\n",
       "      <td>You Are a Badass: How to Stop Doubting Your Gr...</td>\n",
       "      <td>Jen Sincero</td>\n",
       "      <td>4.7</td>\n",
       "      <td>14331</td>\n",
       "      <td>8</td>\n",
       "      <td>2016</td>\n",
       "      <td>Non Fiction</td>\n",
       "    </tr>\n",
       "    <tr>\n",
       "      <th>547</th>\n",
       "      <td>You Are a Badass: How to Stop Doubting Your Gr...</td>\n",
       "      <td>Jen Sincero</td>\n",
       "      <td>4.7</td>\n",
       "      <td>14331</td>\n",
       "      <td>8</td>\n",
       "      <td>2017</td>\n",
       "      <td>Non Fiction</td>\n",
       "    </tr>\n",
       "    <tr>\n",
       "      <th>548</th>\n",
       "      <td>You Are a Badass: How to Stop Doubting Your Gr...</td>\n",
       "      <td>Jen Sincero</td>\n",
       "      <td>4.7</td>\n",
       "      <td>14331</td>\n",
       "      <td>8</td>\n",
       "      <td>2018</td>\n",
       "      <td>Non Fiction</td>\n",
       "    </tr>\n",
       "    <tr>\n",
       "      <th>549</th>\n",
       "      <td>You Are a Badass: How to Stop Doubting Your Gr...</td>\n",
       "      <td>Jen Sincero</td>\n",
       "      <td>4.7</td>\n",
       "      <td>14331</td>\n",
       "      <td>8</td>\n",
       "      <td>2019</td>\n",
       "      <td>Non Fiction</td>\n",
       "    </tr>\n",
       "  </tbody>\n",
       "</table>\n",
       "<p>550 rows × 7 columns</p>\n",
       "</div>"
      ],
      "text/plain": [
       "                                                  Name  \\\n",
       "0                        10-Day Green Smoothie Cleanse   \n",
       "1                                    11/22/63: A Novel   \n",
       "2              12 Rules for Life: An Antidote to Chaos   \n",
       "3                               1984 (Signet Classics)   \n",
       "4    5,000 Awesome Facts (About Everything!) (Natio...   \n",
       "..                                                 ...   \n",
       "545       Wrecking Ball (Diary of a Wimpy Kid Book 14)   \n",
       "546  You Are a Badass: How to Stop Doubting Your Gr...   \n",
       "547  You Are a Badass: How to Stop Doubting Your Gr...   \n",
       "548  You Are a Badass: How to Stop Doubting Your Gr...   \n",
       "549  You Are a Badass: How to Stop Doubting Your Gr...   \n",
       "\n",
       "                       Author  User Rating  Reviews  Price  Year        Genre  \n",
       "0                    JJ Smith          4.7    17350      8  2016  Non Fiction  \n",
       "1                Stephen King          4.6     2052     22  2011      Fiction  \n",
       "2          Jordan B. Peterson          4.7    18979     15  2018  Non Fiction  \n",
       "3               George Orwell          4.7    21424      6  2017      Fiction  \n",
       "4    National Geographic Kids          4.8     7665     12  2019  Non Fiction  \n",
       "..                        ...          ...      ...    ...   ...          ...  \n",
       "545               Jeff Kinney          4.9     9413      8  2019      Fiction  \n",
       "546               Jen Sincero          4.7    14331      8  2016  Non Fiction  \n",
       "547               Jen Sincero          4.7    14331      8  2017  Non Fiction  \n",
       "548               Jen Sincero          4.7    14331      8  2018  Non Fiction  \n",
       "549               Jen Sincero          4.7    14331      8  2019  Non Fiction  \n",
       "\n",
       "[550 rows x 7 columns]"
      ]
     },
     "execution_count": 1,
     "metadata": {},
     "output_type": "execute_result"
    }
   ],
   "source": [
    "import numpy as np\n",
    "import pandas as pd\n",
    "from sklearn.model_selection import train_test_split, cross_validate, cross_val_score\n",
    "df = pd.read_csv(\"bestsellers with categories.csv\")\n",
    "df_train, df_test = train_test_split(df, random_state=123)\n",
    "df"
   ]
  },
  {
   "cell_type": "markdown",
   "metadata": {},
   "source": [
    "#### 2(a)\n",
    "rubric={points:10}\n",
    "\n",
    "- Perform exploratory data analysis, including outlier detection. "
   ]
  },
  {
   "cell_type": "code",
   "execution_count": 2,
   "metadata": {},
   "outputs": [
    {
     "data": {
      "text/plain": [
       "4.8    127\n",
       "4.7    108\n",
       "4.6    105\n",
       "4.5     60\n",
       "4.9     52\n",
       "4.4     38\n",
       "4.3     25\n",
       "4.0     14\n",
       "4.2      8\n",
       "4.1      6\n",
       "3.9      3\n",
       "3.8      2\n",
       "3.3      1\n",
       "3.6      1\n",
       "Name: User Rating, dtype: int64"
      ]
     },
     "execution_count": 2,
     "metadata": {},
     "output_type": "execute_result"
    }
   ],
   "source": [
    "df[\"User Rating\"].value_counts()"
   ]
  },
  {
   "cell_type": "code",
   "execution_count": 3,
   "metadata": {},
   "outputs": [
    {
     "data": {
      "text/plain": [
       "Text(0, 0.5, 'Reviews')"
      ]
     },
     "execution_count": 3,
     "metadata": {},
     "output_type": "execute_result"
    },
    {
     "data": {
      "image/png": "[encoded data removed]",
      "text/plain": [
       "<Figure size 432x288 with 1 Axes>"
      ]
     },
     "metadata": {
      "needs_background": "light"
     },
     "output_type": "display_data"
    }
   ],
   "source": [
    "import matplotlib.pyplot as plt\n",
    "plt.scatter(df['User Rating'], df['Reviews'])\n",
    "plt.xlabel('User Rating')\n",
    "plt.ylabel('Reviews')"
   ]
  },
  {
   "cell_type": "code",
   "execution_count": 4,
   "metadata": {},
   "outputs": [
    {
     "data": {
      "text/plain": [
       "Text(0, 0.5, 'Reviews')"
      ]
     },
     "execution_count": 4,
     "metadata": {},
     "output_type": "execute_result"
    },
    {
     "data": {
      "image/png": "[encoded data removed]",
      "text/plain": [
       "<Figure size 432x288 with 1 Axes>"
      ]
     },
     "metadata": {
      "needs_background": "light"
     },
     "output_type": "display_data"
    }
   ],
   "source": [
    "plt.scatter(df['Year'], df['Reviews'])\n",
    "plt.xlabel('Year')\n",
    "plt.ylabel('Reviews')"
   ]
  },
  {
   "cell_type": "code",
   "execution_count": 5,
   "metadata": {},
   "outputs": [
    {
     "data": {
      "text/plain": [
       "Text(0, 0.5, 'User Rating')"
      ]
     },
     "execution_count": 5,
     "metadata": {},
     "output_type": "execute_result"
    },
    {
     "data": {
      "image/png": "[encoded data removed]",
      "text/plain": [
       "<Figure size 432x288 with 1 Axes>"
      ]
     },
     "metadata": {
      "needs_background": "light"
     },
     "output_type": "display_data"
    }
   ],
   "source": [
    "plt.scatter(df['Year'], df['User Rating'])\n",
    "plt.xlabel('Year')\n",
    "plt.ylabel('User Rating')"
   ]
  },
  {
   "cell_type": "code",
   "execution_count": 6,
   "metadata": {},
   "outputs": [
    {
     "name": "stdout",
     "output_type": "stream",
     "text": [
      "Analysis: \n",
      " User Rating - Reviews: For most books, books with higher ratings have higher number of reviews. Only a few books with low ratings have higher number of reviews. \n",
      "\n",
      "Year-Reviews: For most books, average books have nearly same number of reviews. The books with outstanding have a higher number of reviews as time goes by \n",
      "\n",
      "Year-User Rating: For most books, the user ratings gather between 4.0 and 5.0. \n"
     ]
    }
   ],
   "source": [
    "print(\"Analysis: \\n User Rating - Reviews: For most books, books with higher ratings have higher number of reviews. Only a few books with low ratings have higher number of reviews. \\n\")\n",
    "print(\"Year-Reviews: For most books, average books have nearly same number of reviews. The books with outstanding have a higher number of reviews as time goes by \\n\")\n",
    "print(\"Year-User Rating: For most books, the user ratings gather between 4.0 and 5.0. \")"
   ]
  },
  {
   "cell_type": "markdown",
   "metadata": {},
   "source": [
    "#### 2(b)\n",
    "rubric={points:5}\n",
    "\n",
    "- Drop features that would not actually be available during deployment.\n",
    "- Drop features for other reasons, e.g. they would not be useful for predicting the target.\n",
    "- Provide a brief justification explaining the features you dropped."
   ]
  },
  {
   "cell_type": "code",
   "execution_count": 7,
   "metadata": {},
   "outputs": [],
   "source": [
    "df_b = df.drop(columns = \"Name\")"
   ]
  },
  {
   "cell_type": "code",
   "execution_count": 8,
   "metadata": {},
   "outputs": [
    {
     "data": {
      "text/html": [
       "<div>\n",
       "<style scoped>\n",
       "    .dataframe tbody tr th:only-of-type {\n",
       "        vertical-align: middle;\n",
       "    }\n",
       "\n",
       "    .dataframe tbody tr th {\n",
       "        vertical-align: top;\n",
       "    }\n",
       "\n",
       "    .dataframe thead th {\n",
       "        text-align: right;\n",
       "    }\n",
       "</style>\n",
       "<table border=\"1\" class=\"dataframe\">\n",
       "  <thead>\n",
       "    <tr style=\"text-align: right;\">\n",
       "      <th></th>\n",
       "      <th>User Rating</th>\n",
       "      <th>Reviews</th>\n",
       "      <th>Price</th>\n",
       "      <th>Year</th>\n",
       "      <th>Genre</th>\n",
       "    </tr>\n",
       "  </thead>\n",
       "  <tbody>\n",
       "    <tr>\n",
       "      <th>0</th>\n",
       "      <td>4.7</td>\n",
       "      <td>17350</td>\n",
       "      <td>8</td>\n",
       "      <td>2016</td>\n",
       "      <td>Non Fiction</td>\n",
       "    </tr>\n",
       "    <tr>\n",
       "      <th>1</th>\n",
       "      <td>4.6</td>\n",
       "      <td>2052</td>\n",
       "      <td>22</td>\n",
       "      <td>2011</td>\n",
       "      <td>Fiction</td>\n",
       "    </tr>\n",
       "    <tr>\n",
       "      <th>2</th>\n",
       "      <td>4.7</td>\n",
       "      <td>18979</td>\n",
       "      <td>15</td>\n",
       "      <td>2018</td>\n",
       "      <td>Non Fiction</td>\n",
       "    </tr>\n",
       "    <tr>\n",
       "      <th>3</th>\n",
       "      <td>4.7</td>\n",
       "      <td>21424</td>\n",
       "      <td>6</td>\n",
       "      <td>2017</td>\n",
       "      <td>Fiction</td>\n",
       "    </tr>\n",
       "    <tr>\n",
       "      <th>4</th>\n",
       "      <td>4.8</td>\n",
       "      <td>7665</td>\n",
       "      <td>12</td>\n",
       "      <td>2019</td>\n",
       "      <td>Non Fiction</td>\n",
       "    </tr>\n",
       "    <tr>\n",
       "      <th>...</th>\n",
       "      <td>...</td>\n",
       "      <td>...</td>\n",
       "      <td>...</td>\n",
       "      <td>...</td>\n",
       "      <td>...</td>\n",
       "    </tr>\n",
       "    <tr>\n",
       "      <th>545</th>\n",
       "      <td>4.9</td>\n",
       "      <td>9413</td>\n",
       "      <td>8</td>\n",
       "      <td>2019</td>\n",
       "      <td>Fiction</td>\n",
       "    </tr>\n",
       "    <tr>\n",
       "      <th>546</th>\n",
       "      <td>4.7</td>\n",
       "      <td>14331</td>\n",
       "      <td>8</td>\n",
       "      <td>2016</td>\n",
       "      <td>Non Fiction</td>\n",
       "    </tr>\n",
       "    <tr>\n",
       "      <th>547</th>\n",
       "      <td>4.7</td>\n",
       "      <td>14331</td>\n",
       "      <td>8</td>\n",
       "      <td>2017</td>\n",
       "      <td>Non Fiction</td>\n",
       "    </tr>\n",
       "    <tr>\n",
       "      <th>548</th>\n",
       "      <td>4.7</td>\n",
       "      <td>14331</td>\n",
       "      <td>8</td>\n",
       "      <td>2018</td>\n",
       "      <td>Non Fiction</td>\n",
       "    </tr>\n",
       "    <tr>\n",
       "      <th>549</th>\n",
       "      <td>4.7</td>\n",
       "      <td>14331</td>\n",
       "      <td>8</td>\n",
       "      <td>2019</td>\n",
       "      <td>Non Fiction</td>\n",
       "    </tr>\n",
       "  </tbody>\n",
       "</table>\n",
       "<p>550 rows × 5 columns</p>\n",
       "</div>"
      ],
      "text/plain": [
       "     User Rating  Reviews  Price  Year        Genre\n",
       "0            4.7    17350      8  2016  Non Fiction\n",
       "1            4.6     2052     22  2011      Fiction\n",
       "2            4.7    18979     15  2018  Non Fiction\n",
       "3            4.7    21424      6  2017      Fiction\n",
       "4            4.8     7665     12  2019  Non Fiction\n",
       "..           ...      ...    ...   ...          ...\n",
       "545          4.9     9413      8  2019      Fiction\n",
       "546          4.7    14331      8  2016  Non Fiction\n",
       "547          4.7    14331      8  2017  Non Fiction\n",
       "548          4.7    14331      8  2018  Non Fiction\n",
       "549          4.7    14331      8  2019  Non Fiction\n",
       "\n",
       "[550 rows x 5 columns]"
      ]
     },
     "execution_count": 8,
     "metadata": {},
     "output_type": "execute_result"
    }
   ],
   "source": [
    "df_bb = df_b.drop(columns = \"Author\")\n",
    "df_bb"
   ]
  },
  {
   "cell_type": "code",
   "execution_count": 9,
   "metadata": {},
   "outputs": [
    {
     "name": "stdout",
     "output_type": "stream",
     "text": [
      "Analysis: Drop Name and Author because they are not useful to predict the information of possible popular books in future\n"
     ]
    }
   ],
   "source": [
    "print(\"Analysis: Drop Name and Author because they are not useful to predict the information of possible popular books in future\")"
   ]
  },
  {
   "cell_type": "code",
   "execution_count": 10,
   "metadata": {},
   "outputs": [
    {
     "data": {
      "text/plain": [
       "2019    50\n",
       "2018    50\n",
       "2017    50\n",
       "2016    50\n",
       "2015    50\n",
       "2014    50\n",
       "2013    50\n",
       "2012    50\n",
       "2011    50\n",
       "2010    50\n",
       "2009    50\n",
       "Name: Year, dtype: int64"
      ]
     },
     "execution_count": 10,
     "metadata": {},
     "output_type": "execute_result"
    }
   ],
   "source": [
    "df[\"Year\"].value_counts()"
   ]
  },
  {
   "cell_type": "markdown",
   "metadata": {},
   "source": [
    "#### 2(c)\n",
    "rubric={points:10}\n",
    "\n",
    "- Build a preprocessing pipeline."
   ]
  },
  {
   "cell_type": "code",
   "execution_count": 11,
   "metadata": {},
   "outputs": [
    {
     "data": {
      "text/plain": [
       "0.39382696458636424"
      ]
     },
     "execution_count": 11,
     "metadata": {},
     "output_type": "execute_result"
    }
   ],
   "source": [
    "from sklearn.pipeline import Pipeline, make_pipeline\n",
    "from sklearn.impute import SimpleImputer\n",
    "from sklearn.linear_model import Ridge, ARDRegression, Lasso, SGDRegressor, RidgeCV, LinearRegression\n",
    "from sklearn.preprocessing import StandardScaler, OneHotEncoder\n",
    "from sklearn.compose import ColumnTransformer\n",
    "from sklearn.metrics import r2_score\n",
    "import numpy as numpy\n",
    "\n",
    "def preprocess_features(df_train, df_test, numeric_features, categorical_features, drop_features):\n",
    "\n",
    "    all_features = set(numeric_features + categorical_features + drop_features)\n",
    "    if set(df_train.columns) != all_features:\n",
    "        print(\"Missing columns\", set(df_train.columns) - all_features)\n",
    "        print(\"Extra columns\", all_features - set(df_train.columns))\n",
    "        raise Exception(\"Columns do not match\")\n",
    "    \n",
    "    numeric_transformer = Pipeline([\n",
    "        ('imputer', SimpleImputer(strategy='median')),\n",
    "        ('scaler', StandardScaler())\n",
    "    ])  \n",
    "    categorical_transformer = Pipeline([\n",
    "        ('imputer', SimpleImputer(strategy='constant', fill_value='?')),\n",
    "        ('onehot', OneHotEncoder(handle_unknown='ignore'))\n",
    "    ])\n",
    "    preprocessor = ColumnTransformer([\n",
    "        ('numeric', numeric_transformer, numeric_features),\n",
    "        ('categorical', categorical_transformer, categorical_features)\n",
    "    ])\n",
    "    preprocessor.fit(df_train);\n",
    "\n",
    "    ohe = preprocessor.named_transformers_['categorical'].named_steps['onehot']\n",
    "    ohe_feature_names = list(ohe.get_feature_names(categorical_features))\n",
    "    new_columns = numeric_features + ohe_feature_names\n",
    "\n",
    "    X_train_enc = pd.DataFrame(preprocessor.transform(df_train).toarray(), index=df_train.index, columns=new_columns)\n",
    "    X_test_enc  = pd.DataFrame(preprocessor.transform(df_test).toarray(),  index=df_test.index,  columns=new_columns)\n",
    "    \n",
    "    y_train = df_train[\"User Rating\"]\n",
    "    y_test  = df_test[\"User Rating\"]\n",
    "    \n",
    "    return X_train_enc, y_train, X_test_enc, y_test, preprocessor\n",
    "\n",
    "numeric_features = ['Reviews', 'Price', 'Year']\n",
    "categorical_features = ['Genre', 'Name', 'Author']\n",
    "drop_features = ['User Rating']\n",
    "\n",
    "# split_year = 2017\n",
    "# df_train = df[df[\"Year\"] <= split_year]\n",
    "# df_test  = df[df[\"Year\"] >  split_year]\n",
    "X_train_enc, y_train, X_test_enc, y_test, preprocessor = preprocess_features(df_train, df_test, \n",
    "        numeric_features, categorical_features, drop_features)\n",
    "\n",
    "pipe_r = make_pipeline(preprocessor, Ridge())\n",
    "pipe_r.fit(df_train, y_train)\n",
    "ap = pipe_r.predict(df_test)\n",
    "bp = y_test\n",
    "r2_score(bp,ap)"
   ]
  },
  {
   "cell_type": "markdown",
   "metadata": {},
   "source": [
    "#### 2(d)\n",
    "rubric={points:5}\n",
    "\n",
    "- Try some models includng, at least:\n",
    "    1. `DummyRegressor` or `DummyClassifer`, as appropriate\n",
    "    2. `Ridge` or `LogisticRegression`, as appropriate\n",
    "    3. `LGBMRegressor` or `LGBMClassifier`, as appropriate \n"
   ]
  },
  {
   "cell_type": "code",
   "execution_count": 12,
   "metadata": {},
   "outputs": [
    {
     "data": {
      "text/plain": [
       "ColumnTransformer(transformers=[('numeric',\n",
       "                                 Pipeline(steps=[('imputer',\n",
       "                                                  SimpleImputer(strategy='median')),\n",
       "                                                 ('scaler', StandardScaler())]),\n",
       "                                 ['Reviews', 'Price', 'Year']),\n",
       "                                ('categorical',\n",
       "                                 Pipeline(steps=[('imputer',\n",
       "                                                  SimpleImputer(fill_value='?',\n",
       "                                                                strategy='constant')),\n",
       "                                                 ('onehot',\n",
       "                                                  OneHotEncoder(handle_unknown='ignore'))]),\n",
       "                                 ['Genre', 'Name', 'Author'])])"
      ]
     },
     "execution_count": 12,
     "metadata": {},
     "output_type": "execute_result"
    }
   ],
   "source": [
    "target_name = 'User Rating'\n",
    "X_train = df_train.drop(columns=[target_name])\n",
    "y_train = df_train[target_name]\n",
    "X_test  = df_test.drop(columns=[target_name])\n",
    "y_test  = df_test[target_name]\n",
    "y_train = pd.DataFrame(y_train)\n",
    "preprocessor.fit(X_train)"
   ]
  },
  {
   "cell_type": "code",
   "execution_count": 13,
   "metadata": {},
   "outputs": [
    {
     "name": "stdout",
     "output_type": "stream",
     "text": [
      "The score with DummyRegressor is -8.565702273255482e-06\n"
     ]
    }
   ],
   "source": [
    "from sklearn.dummy import DummyRegressor\n",
    "pipe_r = make_pipeline(preprocessor, DummyRegressor())\n",
    "pipe_r.fit(df_train, y_train)\n",
    "ap = pipe_r.predict(df_test)\n",
    "bp = y_test\n",
    "print(\"The score with DummyRegressor is \" + str(r2_score(bp,ap)))"
   ]
  },
  {
   "cell_type": "code",
   "execution_count": 14,
   "metadata": {},
   "outputs": [
    {
     "name": "stdout",
     "output_type": "stream",
     "text": [
      "The score with Ridge is 0.39382696458636424\n"
     ]
    }
   ],
   "source": [
    "pipe_r = make_pipeline(preprocessor, Ridge())\n",
    "pipe_r.fit(df_train, y_train)\n",
    "ap = pipe_r.predict(df_test)\n",
    "bp = y_test\n",
    "print(\"The score with Ridge is \" + str(r2_score(bp,ap)))"
   ]
  },
  {
   "cell_type": "code",
   "execution_count": 15,
   "metadata": {},
   "outputs": [
    {
     "name": "stdout",
     "output_type": "stream",
     "text": [
      "The score with LGBMRegressor is 0.2522812779578879\n"
     ]
    },
    {
     "name": "stderr",
     "output_type": "stream",
     "text": [
      "/Users/yuanou/opt/anaconda3/lib/python3.8/site-packages/lightgbm/__init__.py:42: UserWarning: Starting from version 2.2.1, the library file in distribution wheels for macOS is built by the Apple Clang (Xcode_8.3.3) compiler.\n",
      "This means that in case of installing LightGBM from PyPI via the ``pip install lightgbm`` command, you don't need to install the gcc compiler anymore.\n",
      "Instead of that, you need to install the OpenMP library, which is required for running LightGBM on the system with the Apple Clang compiler.\n",
      "You can install the OpenMP library by the following command: ``brew install libomp``.\n",
      "  warnings.warn(\"Starting from version 2.2.1, the library file in distribution wheels for macOS \"\n",
      "/Users/yuanou/opt/anaconda3/lib/python3.8/site-packages/sklearn/utils/validation.py:72: DataConversionWarning: A column-vector y was passed when a 1d array was expected. Please change the shape of y to (n_samples, ), for example using ravel().\n",
      "  return f(**kwargs)\n"
     ]
    }
   ],
   "source": [
    "from lightgbm import LGBMRegressor\n",
    "pipe_lgbm = make_pipeline(preprocessor, LGBMRegressor())\n",
    "pipe_lgbm.fit(df_train, y_train)\n",
    "ap = pipe_lgbm.predict(df_test)\n",
    "bp = y_test\n",
    "print(\"The score with LGBMRegressor is \" + str(r2_score(bp,ap)))"
   ]
  },
  {
   "cell_type": "markdown",
   "metadata": {},
   "source": [
    "#### 2(e)\n",
    "rubric={points:5}\n",
    "\n",
    "- Hyperparameter tuning."
   ]
  },
  {
   "cell_type": "code",
   "execution_count": 16,
   "metadata": {},
   "outputs": [
    {
     "name": "stdout",
     "output_type": "stream",
     "text": [
      "Fitting 5 folds for each of 9 candidates, totalling 45 fits\n"
     ]
    },
    {
     "name": "stderr",
     "output_type": "stream",
     "text": [
      "[Parallel(n_jobs=-1)]: Using backend LokyBackend with 16 concurrent workers.\n",
      "[Parallel(n_jobs=-1)]: Done   9 tasks      | elapsed:    1.9s\n",
      "[Parallel(n_jobs=-1)]: Done  37 out of  45 | elapsed:    2.1s remaining:    0.5s\n",
      "[Parallel(n_jobs=-1)]: Done  45 out of  45 | elapsed:    2.2s finished\n",
      "/Users/yuanou/opt/anaconda3/lib/python3.8/site-packages/sklearn/utils/validation.py:72: DataConversionWarning: A column-vector y was passed when a 1d array was expected. Please change the shape of y to (n_samples, ), for example using ravel().\n",
      "  return f(**kwargs)\n"
     ]
    },
    {
     "data": {
      "text/plain": [
       "0.22800480455769379"
      ]
     },
     "execution_count": 16,
     "metadata": {},
     "output_type": "execute_result"
    }
   ],
   "source": [
    "from sklearn.model_selection import GridSearchCV, RandomizedSearchCV\n",
    "from sklearn.feature_extraction.text import CountVectorizer\n",
    "\n",
    "numeric_features = ['Reviews', 'Price', 'Year']\n",
    "categorical_features = ['Genre', 'Name', 'Author']\n",
    "preprocessor_text = ColumnTransformer([\n",
    "    ('scale',  StandardScaler(), numeric_features),\n",
    "    ('ohe', OneHotEncoder(handle_unknown='ignore'), categorical_features),\n",
    "    ('text', CountVectorizer(max_features=100, stop_words='english'), \"Name\")\n",
    "])\n",
    "\n",
    "target_name = 'User Rating'\n",
    "X_train = df_train.drop(columns=[target_name])\n",
    "y_train = df_train[target_name]\n",
    "X_test  = df_test.drop(columns=[target_name])\n",
    "y_test  = df_test[target_name]\n",
    "y_train = pd.DataFrame(y_train)\n",
    "\n",
    "preprocessor_text.fit(X_train);\n",
    "pipe_lgbm = make_pipeline(preprocessor_text, LGBMRegressor())\n",
    "\n",
    "param_grid = {\n",
    "    \"lgbmregressor__num_leaves\" : [11, 31, 51],\n",
    "    \"columntransformer__text__max_features\" : [10, 100, 1000]\n",
    "}\n",
    "\n",
    "grid_search = GridSearchCV(pipe_lgbm, param_grid, return_train_score=True, verbose=2, n_jobs=-1)\n",
    "grid_search.fit(X_train, y_train);\n",
    "grid_search.score(X_test, y_test)"
   ]
  },
  {
   "cell_type": "markdown",
   "metadata": {},
   "source": [
    "#### 2(f)\n",
    "rubric={points:5}\n",
    "\n",
    "- Look at the sub-scores from the different folds of cross-validation and briefly discuss.\n"
   ]
  },
  {
   "cell_type": "code",
   "execution_count": 17,
   "metadata": {},
   "outputs": [
    {
     "name": "stdout",
     "output_type": "stream",
     "text": [
      "The scores for DummyRegressor \n"
     ]
    },
    {
     "data": {
      "text/plain": [
       "fit_time       0.001306\n",
       "score_time     0.000445\n",
       "test_score    -0.012628\n",
       "train_score    0.000000\n",
       "dtype: float64"
      ]
     },
     "execution_count": 17,
     "metadata": {},
     "output_type": "execute_result"
    }
   ],
   "source": [
    "dr = DummyRegressor()\n",
    "\n",
    "target_name = 'User Rating'\n",
    "X_train = df_train.drop(columns=[target_name])\n",
    "y_train = df_train[target_name]\n",
    "X_test  = df_test.drop(columns=[target_name])\n",
    "y_test  = df_test[target_name]\n",
    "y_train = y_train.fillna(value=0)\n",
    "y_test  = y_test.fillna(value=0)\n",
    "dr.fit(X_train, y_train)\n",
    "\n",
    "print(\"The scores for DummyRegressor \")\n",
    "pd.DataFrame(cross_validate(dr, X_train, y_train, return_train_score=True)).mean()"
   ]
  },
  {
   "cell_type": "code",
   "execution_count": 18,
   "metadata": {},
   "outputs": [
    {
     "name": "stdout",
     "output_type": "stream",
     "text": [
      "The scores for Ridge is \n"
     ]
    },
    {
     "data": {
      "text/plain": [
       "fit_time       0.012129\n",
       "score_time     0.004924\n",
       "test_score     0.502620\n",
       "train_score    0.926576\n",
       "dtype: float64"
      ]
     },
     "execution_count": 18,
     "metadata": {},
     "output_type": "execute_result"
    }
   ],
   "source": [
    "preprocessor = ColumnTransformer([\n",
    "    ('scale',  StandardScaler(), numeric_features),\n",
    "    ('ohe', OneHotEncoder(handle_unknown='ignore'), categorical_features)\n",
    "])\n",
    "\n",
    "target_name = 'User Rating'\n",
    "X_train = df_train.drop(columns=[target_name])\n",
    "y_train = df_train[target_name]\n",
    "X_test  = df_test.drop(columns=[target_name])\n",
    "y_test  = df_test[target_name]\n",
    "y_train = y_train.fillna(value=0)\n",
    "y_test  = y_test.fillna(value=0)\n",
    "preprocessor.fit(X_train)\n",
    "\n",
    "lr = make_pipeline(preprocessor, Ridge())\n",
    "lr.fit(X_train, y_train)\n",
    "print(\"The scores for Ridge is \")\n",
    "pd.DataFrame(cross_validate(lr, X_train, y_train, return_train_score=True)).mean()"
   ]
  },
  {
   "cell_type": "code",
   "execution_count": 19,
   "metadata": {},
   "outputs": [
    {
     "name": "stdout",
     "output_type": "stream",
     "text": [
      "The scores for LGBMRegressor is \n"
     ]
    },
    {
     "data": {
      "text/plain": [
       "fit_time       0.031646\n",
       "score_time     0.005195\n",
       "test_score     0.174785\n",
       "train_score    0.657187\n",
       "dtype: float64"
      ]
     },
     "execution_count": 19,
     "metadata": {},
     "output_type": "execute_result"
    }
   ],
   "source": [
    "preprocessor = ColumnTransformer([\n",
    "    ('scale',  StandardScaler(), numeric_features),\n",
    "    ('ohe', OneHotEncoder(handle_unknown='ignore'), categorical_features)\n",
    "])\n",
    "preprocessor.fit(X_train)\n",
    "lgbm = make_pipeline(preprocessor, LGBMRegressor())\n",
    "\n",
    "target_name = 'User Rating'\n",
    "X_train = df_train.drop(columns=[target_name])\n",
    "y_train = df_train[target_name]\n",
    "X_test  = df_test.drop(columns=[target_name])\n",
    "y_test  = df_test[target_name]\n",
    "y_train = y_train.fillna(value=0)\n",
    "y_test  = y_test.fillna(value=0)\n",
    "\n",
    "lgbm.fit(X_train, y_train)\n",
    "print(\"The scores for LGBMRegressor is \")\n",
    "pd.DataFrame(cross_validate(lgbm, X_train, y_train, return_train_score=True)).mean()"
   ]
  },
  {
   "cell_type": "code",
   "execution_count": 20,
   "metadata": {},
   "outputs": [
    {
     "name": "stdout",
     "output_type": "stream",
     "text": [
      "Discussion: The scores for preprocessor with Ridge is more normal so I can know that the pipeline with Ridge fits better.\n"
     ]
    }
   ],
   "source": [
    "print(\"Discussion: The scores for preprocessor with Ridge is more normal so I can know that the pipeline with Ridge fits better.\")"
   ]
  },
  {
   "cell_type": "markdown",
   "metadata": {},
   "source": [
    "#### 2(g)\n",
    "rubric={points:5}\n",
    "\n",
    "- Compute at least one relevant scoring metric aside from the default `.score()` and briefly discussing the result.\n"
   ]
  },
  {
   "cell_type": "code",
   "execution_count": 21,
   "metadata": {},
   "outputs": [
    {
     "name": "stdout",
     "output_type": "stream",
     "text": [
      "The score for DummyRegressor -8.565702273255482e-06\n"
     ]
    }
   ],
   "source": [
    "dr = DummyRegressor()\n",
    "\n",
    "target_name = 'User Rating'\n",
    "X_train = df_train.drop(columns=[target_name])\n",
    "y_train = df_train[target_name]\n",
    "X_test  = df_test.drop(columns=[target_name])\n",
    "y_test  = df_test[target_name]\n",
    "y_train = y_train.fillna(value=0)\n",
    "y_test  = y_test.fillna(value=0)\n",
    "\n",
    "dr.fit(X_train, y_train)\n",
    "print(\"The score for DummyRegressor \" + str(dr.score(X_test, y_test)))"
   ]
  },
  {
   "cell_type": "code",
   "execution_count": 22,
   "metadata": {},
   "outputs": [
    {
     "name": "stdout",
     "output_type": "stream",
     "text": [
      "The score for Ridge is 0.39382696458636424\n"
     ]
    }
   ],
   "source": [
    "preprocessor = ColumnTransformer([\n",
    "    ('scale',  StandardScaler(), numeric_features),\n",
    "    ('ohe', OneHotEncoder(handle_unknown='ignore'), categorical_features)\n",
    "])\n",
    "\n",
    "target_name = 'User Rating'\n",
    "X_train = df_train.drop(columns=[target_name])\n",
    "y_train = df_train[target_name]\n",
    "X_test  = df_test.drop(columns=[target_name])\n",
    "y_test  = df_test[target_name]\n",
    "y_train = y_train.fillna(value=0)\n",
    "y_test  = y_test.fillna(value=0)\n",
    "ytt = y_test.copy()\n",
    "\n",
    "preprocessor.fit(X_train, y_train)\n",
    "lr = make_pipeline(preprocessor, Ridge())\n",
    "lr.fit(X_train, y_train)\n",
    "print(\"The score for Ridge is \" + str(lr.score(X_test, y_test)))"
   ]
  },
  {
   "cell_type": "code",
   "execution_count": 23,
   "metadata": {},
   "outputs": [
    {
     "data": {
      "text/plain": [
       "[<matplotlib.lines.Line2D at 0x7fbaffe87160>]"
      ]
     },
     "execution_count": 23,
     "metadata": {},
     "output_type": "execute_result"
    },
    {
     "data": {
      "image/png": "[encoded data removed]",
      "text/plain": [
       "<Figure size 432x288 with 1 Axes>"
      ]
     },
     "metadata": {
      "needs_background": "light"
     },
     "output_type": "display_data"
    }
   ],
   "source": [
    "import matplotlib.pyplot as plt\n",
    "plt.plot(y_test)"
   ]
  },
  {
   "cell_type": "code",
   "execution_count": 24,
   "metadata": {},
   "outputs": [
    {
     "data": {
      "text/plain": [
       "[<matplotlib.lines.Line2D at 0x7fbafff945b0>]"
      ]
     },
     "execution_count": 24,
     "metadata": {},
     "output_type": "execute_result"
    },
    {
     "data": {
      "image/png": "[encoded data removed]",
      "text/plain": [
       "<Figure size 432x288 with 1 Axes>"
      ]
     },
     "metadata": {
      "needs_background": "light"
     },
     "output_type": "display_data"
    }
   ],
   "source": [
    "plt.plot(ytt)"
   ]
  },
  {
   "cell_type": "code",
   "execution_count": 25,
   "metadata": {},
   "outputs": [
    {
     "name": "stdout",
     "output_type": "stream",
     "text": [
      "The score for LGBMRegressor is 0.2522812779578879\n"
     ]
    }
   ],
   "source": [
    "preprocessor = ColumnTransformer([\n",
    "    ('scale',  StandardScaler(), numeric_features),\n",
    "    ('ohe', OneHotEncoder(handle_unknown='ignore'), categorical_features)\n",
    "])\n",
    "\n",
    "preprocessor.fit(X_train, y_train)\n",
    "lgbm = make_pipeline(preprocessor, LGBMRegressor())\n",
    "\n",
    "target_name = 'User Rating'\n",
    "X_train = df_train.drop(columns=[target_name])\n",
    "y_train = df_train[target_name]\n",
    "X_test  = df_test.drop(columns=[target_name])\n",
    "y_test  = df_test[target_name]\n",
    "y_train = y_train.fillna(value=0)\n",
    "y_test  = y_test.fillna(value=0)\n",
    "\n",
    "lgbm.fit(X_train, y_train)\n",
    "print(\"The score for LGBMRegressor is \" + str(lgbm.score(X_test, y_test)))"
   ]
  },
  {
   "cell_type": "code",
   "execution_count": 26,
   "metadata": {},
   "outputs": [
    {
     "name": "stdout",
     "output_type": "stream",
     "text": [
      "Discussion: The scores for pipeline with Ridge is better, and I can know that this model fits better.\n"
     ]
    }
   ],
   "source": [
    "print(\"Discussion: The scores for pipeline with Ridge is better, and I can know that this model fits better.\")"
   ]
  },
  {
   "cell_type": "markdown",
   "metadata": {},
   "source": [
    "#### 2(h)\n",
    "rubric={points:5}\n",
    "\n",
    "- Evaluate your model on the test set and briefly discuss your level of confidence in whether this is an accurate assessment of your model's future deployment performance."
   ]
  },
  {
   "cell_type": "code",
   "execution_count": 27,
   "metadata": {},
   "outputs": [
    {
     "name": "stdout",
     "output_type": "stream",
     "text": [
      "Answer: From the result in the previous questions, I can know that the preprocessor with Ridge gets the highest score (0.39) among pipelines.\n",
      "The hyperparameter tuning gets lower score (0.22).\n",
      "But the score is not higher enough because it is far away from 0.7 or 0.8. Hence the level of confidence and the accuracy is low.\n",
      "Since pipeline with Ridge gets higheest score among all models, I will adjust this pipeline.\n"
     ]
    }
   ],
   "source": [
    "print(\"Answer: From the result in the previous questions, I can know that the preprocessor with Ridge gets the highest score (0.39) among pipelines.\")\n",
    "print(\"The hyperparameter tuning gets lower score (0.22).\")\n",
    "print(\"But the score is not higher enough because it is far away from 0.7 or 0.8. Hence the level of confidence and the accuracy is low.\")\n",
    "print(\"Since pipeline with Ridge gets higheest score among all models, I will adjust this pipeline.\")"
   ]
  },
  {
   "cell_type": "markdown",
   "metadata": {},
   "source": [
    "## Exercise 3\n",
    "rubric={points:10}\n",
    "\n",
    "The following short-answer questions pertain to Lecture 19 on clustering.\n",
    "\n",
    "1. What's the main difference between unsupervised and supervised learning?\n",
    "2. When choosing $k$ in $k$-means, why not just choose the $k$ that leads to the smallest inertia (sum of squared distances within clusters)?\n",
    "3. You decide to use clustering for _outlier detection_; that is, to detect instances that are very atypical compared to all the rest. How might you do this with $k$-means?\n",
    "4. You decide to use clustering for _outlier detection_; that is, to detect instances that are very atypical compared to all the rest. How might you do this with DBSCAN?\n",
    "5. For hierarchical clustering, we briefly discussed a few different methods for merging clusters: single linkage, average linkage, etc. Why do we have this added complication here - can't we just minimize distance like we did with $k$-means? "
   ]
  },
  {
   "cell_type": "markdown",
   "metadata": {},
   "source": [
    "Answer: 1, In unsupervised learning, we do not have labels telling is the \"correct answer\" for our recommendations. Supervised learning has such labels. 2, Sum of squared distances decreases as k increases. 3, Averaging the points to estimate cluster centres. 4, Keep the non-dense (right-hand) cluster together, and join the left two clusters. 5, Different methods are for different strategies. Single Linkage for minimum distance, complete linkage for maximum distance, average linkage for average distance.  "
   ]
  },
  {
   "cell_type": "markdown",
   "metadata": {},
   "source": [
    "## Submission to Canvas\n",
    "\n",
    "**IF YOU ARE WORKING WITH A PARTNER** please form the group before submitting - see instructions [here](https://github.com/UBC-CS/cpsc330/blob/master/docs/homework_instructions.md#partners).\n",
    "\n",
    "When you are ready to submit your assignment do the following:\n",
    "\n",
    "1. Run all cells in your notebook to make sure there are no errors by doing `Kernel -> Restart Kernel and Clear All Outputs` and then `Run -> Run All Cells`.\n",
    "2. Save your notebook.\n",
    "3. Convert your notebook to `.html` format using the `convert_notebook()` function below **or** by `File -> Export Notebook As... -> Export Notebook to HTML`.\n",
    "4. Run the code `submit()` below to go through an interactive submission process to Canvas.\n",
    ">For this step, you will need a Canvas *Access Token* token. If you haven't already got one, log-in to Canvas, click `Account` (top-left of the screen), then `Settings`, then scroll down until you see the `+ New Access Token` button. Click that button, give your token any name you like and set the expiry date to Dec 31, 2020. Then click `Generate token`. Save this token in a safe place on your computer as you'll need it for all assignments. Treat the token with as much care as you would an important password. \n",
    "\n",
    "Note: for those having trouble with the Jupyter widgets and the dropdowns: if you add the argument `no_widgets=True` to your `submit` call, it should let you do a text-based entry of your key and avoid the dropdowns altogether. If this doesn't work, you probably need to upgrade to the latest version of `canvasutils` with `pip install canvasutils -U` from your terminal with your environment activated.\n"
   ]
  },
  {
   "cell_type": "code",
   "execution_count": 28,
   "metadata": {},
   "outputs": [
    {
     "ename": "ModuleNotFoundError",
     "evalue": "No module named 'canvasutils'",
     "output_type": "error",
     "traceback": [
      "\u001b[0;31m---------------------------------------------------------------------------\u001b[0m",
      "\u001b[0;31mModuleNotFoundError\u001b[0m                       Traceback (most recent call last)",
      "\u001b[0;32m<ipython-input-28-be59d89087b5>\u001b[0m in \u001b[0;36m<module>\u001b[0;34m\u001b[0m\n\u001b[0;32m----> 1\u001b[0;31m \u001b[0;32mfrom\u001b[0m \u001b[0mcanvasutils\u001b[0m\u001b[0;34m.\u001b[0m\u001b[0msubmit\u001b[0m \u001b[0;32mimport\u001b[0m \u001b[0msubmit\u001b[0m\u001b[0;34m,\u001b[0m \u001b[0mconvert_notebook\u001b[0m\u001b[0;34m\u001b[0m\u001b[0;34m\u001b[0m\u001b[0m\n\u001b[0m\u001b[1;32m      2\u001b[0m \u001b[0;34m\u001b[0m\u001b[0m\n\u001b[1;32m      3\u001b[0m \u001b[0;31m# Note: the canvasutils package should have been installed as part of your environment setup -\u001b[0m\u001b[0;34m\u001b[0m\u001b[0;34m\u001b[0m\u001b[0;34m\u001b[0m\u001b[0m\n\u001b[1;32m      4\u001b[0m \u001b[0;31m# see https://github.com/UBC-CS/cpsc330/blob/master/docs/setup.md\u001b[0m\u001b[0;34m\u001b[0m\u001b[0;34m\u001b[0m\u001b[0;34m\u001b[0m\u001b[0m\n",
      "\u001b[0;31mModuleNotFoundError\u001b[0m: No module named 'canvasutils'"
     ]
    }
   ],
   "source": [
    "from canvasutils.submit import submit, convert_notebook\n",
    "\n",
    "# Note: the canvasutils package should have been installed as part of your environment setup - \n",
    "# see https://github.com/UBC-CS/cpsc330/blob/master/docs/setup.md"
   ]
  },
  {
   "cell_type": "code",
   "execution_count": null,
   "metadata": {},
   "outputs": [],
   "source": [
    "# convert_notebook(\"hw8.ipynb\", \"html\")  # uncomment and run when you want to try convert your notebook to HTML (or you can convert manually from the File menu)"
   ]
  },
  {
   "cell_type": "code",
   "execution_count": null,
   "metadata": {},
   "outputs": [],
   "source": [
    "# submit(course_code=53561, token=False)  # uncomment and run when ready to submit "
   ]
  }
 ],
 "metadata": {
  "anaconda-cloud": {},
  "kernelspec": {
   "display_name": "Python 3",
   "language": "python",
   "name": "python3"
  },
  "language_info": {
   "codemirror_mode": {
    "name": "ipython",
    "version": 3
   },
   "file_extension": ".py",
   "mimetype": "text/x-python",
   "name": "python",
   "nbconvert_exporter": "python",
   "pygments_lexer": "ipython3",
   "version": "3.8.3"
  },
  "name": "_merged",
  "toc": {
   "colors": {
    "hover_highlight": "#DAA520",
    "navigate_num": "#000000",
    "navigate_text": "#333333",
    "running_highlight": "#FF0000",
    "selected_highlight": "#FFD700",
    "sidebar_border": "#EEEEEE",
    "wrapper_background": "#FFFFFF"
   },
   "moveMenuLeft": true,
   "nav_menu": {
    "height": "438px",
    "width": "252px"
   },
   "navigate_menu": true,
   "number_sections": true,
   "sideBar": true,
   "threshold": 4,
   "toc_cell": false,
   "toc_section_display": "block",
   "toc_window_display": false,
   "widenNotebook": false
  }
 },
 "nbformat": 4,
 "nbformat_minor": 4
}
